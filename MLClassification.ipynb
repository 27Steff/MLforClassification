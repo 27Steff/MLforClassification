{
  "nbformat": 4,
  "nbformat_minor": 0,
  "metadata": {
    "colab": {
      "provenance": [],
      "authorship_tag": "ABX9TyOUInZiyCnPFGzjr/nelxQ+"
    },
    "kernelspec": {
      "name": "python3",
      "display_name": "Python 3"
    },
    "language_info": {
      "name": "python"
    }
  },
  "cells": [
    {
      "cell_type": "code",
      "execution_count": 411,
      "metadata": {
        "id": "a5mSy9VTDzfk"
      },
      "outputs": [],
      "source": [
        "import pandas as pd\n",
        "import numpy as np\n",
        "import matplotlib.pyplot as plt\n",
        "import seaborn as sns\n",
        "import plotly.express as px\n",
        "from sklearn.feature_extraction.text import TfidfVectorizer\n",
        "from sklearn.metrics.pairwise import linear_kernel\n",
        "from sklearn.neighbors import KNeighborsClassifier\n",
        "from sklearn.model_selection import train_test_split\n",
        "from sklearn.metrics import accuracy_score\n",
        "from sklearn.naive_bayes import GaussianNB"
      ]
    },
    {
      "cell_type": "code",
      "source": [
        "from sklearn.metrics import classification_report\n"
      ],
      "metadata": {
        "id": "2_XEXmGEdNnN"
      },
      "execution_count": 416,
      "outputs": []
    },
    {
      "cell_type": "code",
      "source": [
        "df = pd.read_csv('data/Top_Anime_data.csv')"
      ],
      "metadata": {
        "id": "m9tqJGPgEeOV"
      },
      "execution_count": 186,
      "outputs": []
    },
    {
      "cell_type": "code",
      "source": [
        "#Learning from Dataset"
      ],
      "metadata": {
        "id": "LJA4HaoTJyXe"
      },
      "execution_count": 187,
      "outputs": []
    },
    {
      "cell_type": "code",
      "source": [
        "df.shape"
      ],
      "metadata": {
        "colab": {
          "base_uri": "https://localhost:8080/"
        },
        "id": "LzPHixLfErcR",
        "outputId": "2637dfc7-39c8-4634-e4b3-73fc0779962d"
      },
      "execution_count": 188,
      "outputs": [
        {
          "output_type": "execute_result",
          "data": {
            "text/plain": [
              "(1000, 22)"
            ]
          },
          "metadata": {},
          "execution_count": 188
        }
      ]
    },
    {
      "cell_type": "code",
      "source": [
        "nan_count = df.isna().sum()\n",
        "print(nan_count)"
      ],
      "metadata": {
        "colab": {
          "base_uri": "https://localhost:8080/"
        },
        "id": "fObArgkuFy_q",
        "outputId": "3acf0e62-6850-445a-f6bd-349fd9cee9bd"
      },
      "execution_count": 189,
      "outputs": [
        {
          "output_type": "stream",
          "name": "stdout",
          "text": [
            "Score            0\n",
            "Popularity       0\n",
            "Rank             0\n",
            "Members          0\n",
            "Description      0\n",
            "Synonyms       291\n",
            "Japanese         1\n",
            "English        141\n",
            "Type             0\n",
            "Episodes         0\n",
            "Status           0\n",
            "Aired            0\n",
            "Premiered      431\n",
            "Broadcast      431\n",
            "Producers        0\n",
            "Licensors        0\n",
            "Studios          0\n",
            "Source           0\n",
            "Genres         229\n",
            "Demographic    479\n",
            "Duration         0\n",
            "Rating           0\n",
            "dtype: int64\n"
          ]
        }
      ]
    },
    {
      "cell_type": "code",
      "source": [
        "df.info()"
      ],
      "metadata": {
        "colab": {
          "base_uri": "https://localhost:8080/"
        },
        "id": "ROu9U7xrFgp_",
        "outputId": "ca0c7084-e6ab-4e2c-93c4-8ebc7f492ffa"
      },
      "execution_count": 190,
      "outputs": [
        {
          "output_type": "stream",
          "name": "stdout",
          "text": [
            "<class 'pandas.core.frame.DataFrame'>\n",
            "RangeIndex: 1000 entries, 0 to 999\n",
            "Data columns (total 22 columns):\n",
            " #   Column       Non-Null Count  Dtype  \n",
            "---  ------       --------------  -----  \n",
            " 0   Score        1000 non-null   float64\n",
            " 1   Popularity   1000 non-null   int64  \n",
            " 2   Rank         1000 non-null   int64  \n",
            " 3   Members      1000 non-null   int64  \n",
            " 4   Description  1000 non-null   object \n",
            " 5   Synonyms     709 non-null    object \n",
            " 6   Japanese     999 non-null    object \n",
            " 7   English      859 non-null    object \n",
            " 8   Type         1000 non-null   object \n",
            " 9   Episodes     1000 non-null   object \n",
            " 10  Status       1000 non-null   object \n",
            " 11  Aired        1000 non-null   object \n",
            " 12  Premiered    569 non-null    object \n",
            " 13  Broadcast    569 non-null    object \n",
            " 14  Producers    1000 non-null   object \n",
            " 15  Licensors    1000 non-null   object \n",
            " 16  Studios      1000 non-null   object \n",
            " 17  Source       1000 non-null   object \n",
            " 18  Genres       771 non-null    object \n",
            " 19  Demographic  521 non-null    object \n",
            " 20  Duration     1000 non-null   object \n",
            " 21  Rating       1000 non-null   object \n",
            "dtypes: float64(1), int64(3), object(18)\n",
            "memory usage: 172.0+ KB\n"
          ]
        }
      ]
    },
    {
      "cell_type": "code",
      "source": [
        "df.duplicated().values.any()"
      ],
      "metadata": {
        "colab": {
          "base_uri": "https://localhost:8080/"
        },
        "id": "YC1CCU5VKL4o",
        "outputId": "66c0bb70-00f6-4d3f-99be-9e0a573dfa6c"
      },
      "execution_count": 191,
      "outputs": [
        {
          "output_type": "execute_result",
          "data": {
            "text/plain": [
              "False"
            ]
          },
          "metadata": {},
          "execution_count": 191
        }
      ]
    },
    {
      "cell_type": "code",
      "source": [
        "#Cleaning data"
      ],
      "metadata": {
        "id": "VFvUgJMlJ1jM"
      },
      "execution_count": 192,
      "outputs": []
    },
    {
      "cell_type": "code",
      "source": [
        "df[\"English\"].fillna(df.Japanese, inplace = True)\n",
        "df[\"Genres\"].fillna(df.Demographic, inplace = True)"
      ],
      "metadata": {
        "id": "VRpcOqBRHZG3"
      },
      "execution_count": 193,
      "outputs": []
    },
    {
      "cell_type": "code",
      "source": [
        "df[\"Episodes\"].replace('Unknown', '0', inplace = True)"
      ],
      "metadata": {
        "id": "Rish-xsTOzOX"
      },
      "execution_count": 213,
      "outputs": []
    },
    {
      "cell_type": "code",
      "source": [
        "df = df.drop(df.columns[[2,3,5,6,10,12,13,19,20]], axis=1) #we drop the columns we won't be using"
      ],
      "metadata": {
        "id": "pwbCP_POIlfm"
      },
      "execution_count": 194,
      "outputs": []
    },
    {
      "cell_type": "code",
      "source": [
        "df.head(20)"
      ],
      "metadata": {
        "colab": {
          "base_uri": "https://localhost:8080/",
          "height": 1000
        },
        "id": "WAf8UE3LHseV",
        "outputId": "8d01c990-7b5a-4842-8840-d54fbfc8e54e"
      },
      "execution_count": 195,
      "outputs": [
        {
          "output_type": "execute_result",
          "data": {
            "text/plain": [
              "    Score  Popularity                                        Description  \\\n",
              "0    9.38         284  During their decade-long quest to defeat the D...   \n",
              "1    9.09           3  After a horrific alchemy experiment goes wrong...   \n",
              "2    9.07          13  Eccentric scientist Rintarou Okabe has a never...   \n",
              "3    9.06         342  Gintoki, Shinpachi, and Kagura return as the f...   \n",
              "4    9.05          21  Seeking to restore humanity's diminishing hope...   \n",
              "5    9.04        1532  Two years have passed following the Tendoshuu'...   \n",
              "6    9.04           9  Hunters devote themselves to accomplishing haz...   \n",
              "7    9.03         393  After a one-year hiatus, Shinpachi Shimura ret...   \n",
              "8    9.02         411  Substitute Soul Reaper Ichigo Kurosaki spends ...   \n",
              "9    9.02         746  The 150-year-long stalemate between the two in...   \n",
              "10   9.02         738  While Gintoki Sakata was away, the Yorozuya fo...   \n",
              "11   9.01         178  The elite members of Shuchiin Academy's studen...   \n",
              "12   8.98         473  Hundreds of years ago, the Chinese zodiac spir...   \n",
              "13   8.98         761  After joining the resistance against the bakuf...   \n",
              "14   8.94         140  Edo is a city that was home to the vigor and a...   \n",
              "15   8.93         118  Tomoya Okazaki and Nagisa Furukawa have gradua...   \n",
              "16   8.93          20  As a wild youth, elementary school student Sho...   \n",
              "17   8.92         609  Maomao, an apothecary's daughter, has been plu...   \n",
              "18   8.92         567  Now in his second year of high school, Rei Kir...   \n",
              "19   8.91          46  One year has passed since the Black Rebellion,...   \n",
              "\n",
              "                                      English   Type Episodes  \\\n",
              "0               Frieren: Beyond Journey's End     TV       28   \n",
              "1            Fullmetal Alchemist: Brotherhood     TV       64   \n",
              "2                                 Steins;Gate     TV       24   \n",
              "3                            Gintama Season 4     TV       51   \n",
              "4             Attack on Titan Season 3 Part 2     TV       10   \n",
              "5                     Gintama: The Very Final  Movie        1   \n",
              "6                             Hunter x Hunter     TV      148   \n",
              "7                            Gintama Season 2     TV       51   \n",
              "8             Bleach: Thousand-Year Blood War     TV       13   \n",
              "9               Legend of the Galactic Heroes    OVA      110   \n",
              "10                         Gintama: Enchousen     TV       13   \n",
              "11  Kaguya-sama: Love is War - Ultra Romantic     TV       13   \n",
              "12            Fruits Basket: The Final Season     TV       13   \n",
              "13                           Gintama Season 5     TV       12   \n",
              "14                                    Gintama     TV      201   \n",
              "15                       Clannad: After Story     TV       24   \n",
              "16                             A Silent Voice  Movie        1   \n",
              "17                     The Apothecary Diaries     TV       24   \n",
              "18      March Comes In Like a Lion 2nd Season     TV       22   \n",
              "19    Code Geass: Lelouch of the Rebellion R2     TV       25   \n",
              "\n",
              "                           Aired  \\\n",
              "0   Sep 29, 2023 to Mar 22, 2024   \n",
              "1     Apr 5, 2009 to Jul 4, 2010   \n",
              "2    Apr 6, 2011 to Sep 14, 2011   \n",
              "3    Apr 8, 2015 to Mar 30, 2016   \n",
              "4    Apr 29, 2019 to Jul 1, 2019   \n",
              "5                    Jan 8, 2021   \n",
              "6    Oct 2, 2011 to Sep 24, 2014   \n",
              "7    Apr 4, 2011 to Mar 26, 2012   \n",
              "8   Oct 11, 2022 to Dec 27, 2022   \n",
              "9    Jan 8, 1988 to Mar 17, 1997   \n",
              "10   Oct 4, 2012 to Mar 28, 2013   \n",
              "11   Apr 9, 2022 to Jun 25, 2022   \n",
              "12   Apr 6, 2021 to Jun 29, 2021   \n",
              "13   Jan 9, 2017 to Mar 27, 2017   \n",
              "14   Apr 4, 2006 to Mar 25, 2010   \n",
              "15   Oct 3, 2008 to Mar 27, 2009   \n",
              "16                  Sep 17, 2016   \n",
              "17  Oct 22, 2023 to Mar 24, 2024   \n",
              "18  Oct 14, 2017 to Mar 31, 2018   \n",
              "19   Apr 6, 2008 to Sep 28, 2008   \n",
              "\n",
              "                                            Producers  \\\n",
              "0   Aniplex, Dentsu, Shogakukan-Shueisha Productio...   \n",
              "1   Aniplex, Square Enix, Mainichi Broadcasting Sy...   \n",
              "2   Frontier Works, Media Factory, Kadokawa Shoten...   \n",
              "3                           TV Tokyo, Aniplex, Dentsu   \n",
              "4   Production I.G, Dentsu, Mainichi Broadcasting ...   \n",
              "5   TV Tokyo, Aniplex, Dentsu, Bandai, Warner Bros...   \n",
              "6            VAP, Nippon Television Network, Shueisha   \n",
              "7   TV Tokyo, Aniplex, Dentsu, Trinity Sound, Mira...   \n",
              "8                 TV Tokyo, Aniplex, Dentsu, Shueisha   \n",
              "9   TV Tokyo, Kitty Films, Tokuma Shoten, Tokuma J...   \n",
              "10   TV Tokyo, Aniplex, Dentsu, Shueisha, Miracle Bus   \n",
              "11  Aniplex, Mainichi Broadcasting System, Magic C...   \n",
              "12  TV Tokyo, TV Osaka, Nihon Ad Systems, Hakusens...   \n",
              "13                TV Tokyo, Aniplex, Dentsu, Shueisha   \n",
              "14  TV Tokyo, Aniplex, Dentsu, Trinity Sound, Audi...   \n",
              "15          Pony Canyon, TBS, Rakuonsha, Animation Do   \n",
              "16  Shochiku, Pony Canyon, Kodansha, ABC Animation...   \n",
              "17  Dentsu, Square Enix, Nippon Television Network...   \n",
              "18  Aniplex, Dentsu, NHK, Hakusensha, Asmik Ace, T...   \n",
              "19  Bandai Visual, Mainichi Broadcasting System, B...   \n",
              "\n",
              "                           Licensors                              Studios  \\\n",
              "0               None found, add some                             Madhouse   \n",
              "1     Funimation, Aniplex of America                                Bones   \n",
              "2                         Funimation                            White Fox   \n",
              "3            Funimation, Crunchyroll                Bandai Namco Pictures   \n",
              "4                         Funimation                           Wit Studio   \n",
              "5                        Eleven Arts                Bandai Namco Pictures   \n",
              "6                          VIZ Media                             Madhouse   \n",
              "7               None found, add some                              Sunrise   \n",
              "8                          VIZ Media                              Pierrot   \n",
              "9                   Sentai Filmworks  K-Factory, Kitty Film Mitaka Studio   \n",
              "10              None found, add some                              Sunrise   \n",
              "11                Aniplex of America                         A-1 Pictures   \n",
              "12                        Funimation                    TMS Entertainment   \n",
              "13              None found, add some                Bandai Namco Pictures   \n",
              "14     Sentai Filmworks, Crunchyroll                              Sunrise   \n",
              "15                  Sentai Filmworks                      Kyoto Animation   \n",
              "16            Eleven Arts, NYAV Post                      Kyoto Animation   \n",
              "17              None found, add some           OLM, TOHO animation STUDIO   \n",
              "18                Aniplex of America                                Shaft   \n",
              "19  Funimation, Bandai Entertainment                              Sunrise   \n",
              "\n",
              "          Source                                             Genres  \\\n",
              "0          Manga     AdventureAdventure, DramaDrama, FantasyFantasy   \n",
              "1          Manga  ActionAction, AdventureAdventure, DramaDrama, ...   \n",
              "2   Visual novel         DramaDrama, Sci-FiSci-Fi, SuspenseSuspense   \n",
              "3          Manga           ActionAction, ComedyComedy, Sci-FiSci-Fi   \n",
              "4          Manga         ActionAction, DramaDrama, SuspenseSuspense   \n",
              "5          Manga  ActionAction, ComedyComedy, DramaDrama, Sci-Fi...   \n",
              "6          Manga   ActionAction, AdventureAdventure, FantasyFantasy   \n",
              "7          Manga           ActionAction, ComedyComedy, Sci-FiSci-Fi   \n",
              "8          Manga   ActionAction, AdventureAdventure, FantasyFantasy   \n",
              "9          Novel                           DramaDrama, Sci-FiSci-Fi   \n",
              "10         Manga           ActionAction, ComedyComedy, Sci-FiSci-Fi   \n",
              "11         Manga                       ComedyComedy, RomanceRomance   \n",
              "12         Manga  DramaDrama, RomanceRomance, SupernaturalSupern...   \n",
              "13         Manga           ActionAction, ComedyComedy, Sci-FiSci-Fi   \n",
              "14         Manga           ActionAction, ComedyComedy, Sci-FiSci-Fi   \n",
              "15  Visual novel  DramaDrama, RomanceRomance, SupernaturalSupern...   \n",
              "16         Manga             Award WinningAward Winning, DramaDrama   \n",
              "17   Light novel                         DramaDrama, MysteryMystery   \n",
              "18         Manga                                       SeinenSeinen   \n",
              "19      Original  ActionAction, Award WinningAward Winning, Dram...   \n",
              "\n",
              "                            Rating  \n",
              "0        PG-13 - Teens 13 or older  \n",
              "1   R - 17+ (violence & profanity)  \n",
              "2        PG-13 - Teens 13 or older  \n",
              "3        PG-13 - Teens 13 or older  \n",
              "4   R - 17+ (violence & profanity)  \n",
              "5        PG-13 - Teens 13 or older  \n",
              "6        PG-13 - Teens 13 or older  \n",
              "7        PG-13 - Teens 13 or older  \n",
              "8   R - 17+ (violence & profanity)  \n",
              "9   R - 17+ (violence & profanity)  \n",
              "10       PG-13 - Teens 13 or older  \n",
              "11       PG-13 - Teens 13 or older  \n",
              "12       PG-13 - Teens 13 or older  \n",
              "13       PG-13 - Teens 13 or older  \n",
              "14       PG-13 - Teens 13 or older  \n",
              "15       PG-13 - Teens 13 or older  \n",
              "16       PG-13 - Teens 13 or older  \n",
              "17       PG-13 - Teens 13 or older  \n",
              "18       PG-13 - Teens 13 or older  \n",
              "19  R - 17+ (violence & profanity)  "
            ],
            "text/html": [
              "\n",
              "  <div id=\"df-0e571d66-367c-4603-9e16-3eaa217f6750\" class=\"colab-df-container\">\n",
              "    <div>\n",
              "<style scoped>\n",
              "    .dataframe tbody tr th:only-of-type {\n",
              "        vertical-align: middle;\n",
              "    }\n",
              "\n",
              "    .dataframe tbody tr th {\n",
              "        vertical-align: top;\n",
              "    }\n",
              "\n",
              "    .dataframe thead th {\n",
              "        text-align: right;\n",
              "    }\n",
              "</style>\n",
              "<table border=\"1\" class=\"dataframe\">\n",
              "  <thead>\n",
              "    <tr style=\"text-align: right;\">\n",
              "      <th></th>\n",
              "      <th>Score</th>\n",
              "      <th>Popularity</th>\n",
              "      <th>Description</th>\n",
              "      <th>English</th>\n",
              "      <th>Type</th>\n",
              "      <th>Episodes</th>\n",
              "      <th>Aired</th>\n",
              "      <th>Producers</th>\n",
              "      <th>Licensors</th>\n",
              "      <th>Studios</th>\n",
              "      <th>Source</th>\n",
              "      <th>Genres</th>\n",
              "      <th>Rating</th>\n",
              "    </tr>\n",
              "  </thead>\n",
              "  <tbody>\n",
              "    <tr>\n",
              "      <th>0</th>\n",
              "      <td>9.38</td>\n",
              "      <td>284</td>\n",
              "      <td>During their decade-long quest to defeat the D...</td>\n",
              "      <td>Frieren: Beyond Journey's End</td>\n",
              "      <td>TV</td>\n",
              "      <td>28</td>\n",
              "      <td>Sep 29, 2023 to Mar 22, 2024</td>\n",
              "      <td>Aniplex, Dentsu, Shogakukan-Shueisha Productio...</td>\n",
              "      <td>None found, add some</td>\n",
              "      <td>Madhouse</td>\n",
              "      <td>Manga</td>\n",
              "      <td>AdventureAdventure, DramaDrama, FantasyFantasy</td>\n",
              "      <td>PG-13 - Teens 13 or older</td>\n",
              "    </tr>\n",
              "    <tr>\n",
              "      <th>1</th>\n",
              "      <td>9.09</td>\n",
              "      <td>3</td>\n",
              "      <td>After a horrific alchemy experiment goes wrong...</td>\n",
              "      <td>Fullmetal Alchemist: Brotherhood</td>\n",
              "      <td>TV</td>\n",
              "      <td>64</td>\n",
              "      <td>Apr 5, 2009 to Jul 4, 2010</td>\n",
              "      <td>Aniplex, Square Enix, Mainichi Broadcasting Sy...</td>\n",
              "      <td>Funimation, Aniplex of America</td>\n",
              "      <td>Bones</td>\n",
              "      <td>Manga</td>\n",
              "      <td>ActionAction, AdventureAdventure, DramaDrama, ...</td>\n",
              "      <td>R - 17+ (violence &amp; profanity)</td>\n",
              "    </tr>\n",
              "    <tr>\n",
              "      <th>2</th>\n",
              "      <td>9.07</td>\n",
              "      <td>13</td>\n",
              "      <td>Eccentric scientist Rintarou Okabe has a never...</td>\n",
              "      <td>Steins;Gate</td>\n",
              "      <td>TV</td>\n",
              "      <td>24</td>\n",
              "      <td>Apr 6, 2011 to Sep 14, 2011</td>\n",
              "      <td>Frontier Works, Media Factory, Kadokawa Shoten...</td>\n",
              "      <td>Funimation</td>\n",
              "      <td>White Fox</td>\n",
              "      <td>Visual novel</td>\n",
              "      <td>DramaDrama, Sci-FiSci-Fi, SuspenseSuspense</td>\n",
              "      <td>PG-13 - Teens 13 or older</td>\n",
              "    </tr>\n",
              "    <tr>\n",
              "      <th>3</th>\n",
              "      <td>9.06</td>\n",
              "      <td>342</td>\n",
              "      <td>Gintoki, Shinpachi, and Kagura return as the f...</td>\n",
              "      <td>Gintama Season 4</td>\n",
              "      <td>TV</td>\n",
              "      <td>51</td>\n",
              "      <td>Apr 8, 2015 to Mar 30, 2016</td>\n",
              "      <td>TV Tokyo, Aniplex, Dentsu</td>\n",
              "      <td>Funimation, Crunchyroll</td>\n",
              "      <td>Bandai Namco Pictures</td>\n",
              "      <td>Manga</td>\n",
              "      <td>ActionAction, ComedyComedy, Sci-FiSci-Fi</td>\n",
              "      <td>PG-13 - Teens 13 or older</td>\n",
              "    </tr>\n",
              "    <tr>\n",
              "      <th>4</th>\n",
              "      <td>9.05</td>\n",
              "      <td>21</td>\n",
              "      <td>Seeking to restore humanity's diminishing hope...</td>\n",
              "      <td>Attack on Titan Season 3 Part 2</td>\n",
              "      <td>TV</td>\n",
              "      <td>10</td>\n",
              "      <td>Apr 29, 2019 to Jul 1, 2019</td>\n",
              "      <td>Production I.G, Dentsu, Mainichi Broadcasting ...</td>\n",
              "      <td>Funimation</td>\n",
              "      <td>Wit Studio</td>\n",
              "      <td>Manga</td>\n",
              "      <td>ActionAction, DramaDrama, SuspenseSuspense</td>\n",
              "      <td>R - 17+ (violence &amp; profanity)</td>\n",
              "    </tr>\n",
              "    <tr>\n",
              "      <th>5</th>\n",
              "      <td>9.04</td>\n",
              "      <td>1532</td>\n",
              "      <td>Two years have passed following the Tendoshuu'...</td>\n",
              "      <td>Gintama: The Very Final</td>\n",
              "      <td>Movie</td>\n",
              "      <td>1</td>\n",
              "      <td>Jan 8, 2021</td>\n",
              "      <td>TV Tokyo, Aniplex, Dentsu, Bandai, Warner Bros...</td>\n",
              "      <td>Eleven Arts</td>\n",
              "      <td>Bandai Namco Pictures</td>\n",
              "      <td>Manga</td>\n",
              "      <td>ActionAction, ComedyComedy, DramaDrama, Sci-Fi...</td>\n",
              "      <td>PG-13 - Teens 13 or older</td>\n",
              "    </tr>\n",
              "    <tr>\n",
              "      <th>6</th>\n",
              "      <td>9.04</td>\n",
              "      <td>9</td>\n",
              "      <td>Hunters devote themselves to accomplishing haz...</td>\n",
              "      <td>Hunter x Hunter</td>\n",
              "      <td>TV</td>\n",
              "      <td>148</td>\n",
              "      <td>Oct 2, 2011 to Sep 24, 2014</td>\n",
              "      <td>VAP, Nippon Television Network, Shueisha</td>\n",
              "      <td>VIZ Media</td>\n",
              "      <td>Madhouse</td>\n",
              "      <td>Manga</td>\n",
              "      <td>ActionAction, AdventureAdventure, FantasyFantasy</td>\n",
              "      <td>PG-13 - Teens 13 or older</td>\n",
              "    </tr>\n",
              "    <tr>\n",
              "      <th>7</th>\n",
              "      <td>9.03</td>\n",
              "      <td>393</td>\n",
              "      <td>After a one-year hiatus, Shinpachi Shimura ret...</td>\n",
              "      <td>Gintama Season 2</td>\n",
              "      <td>TV</td>\n",
              "      <td>51</td>\n",
              "      <td>Apr 4, 2011 to Mar 26, 2012</td>\n",
              "      <td>TV Tokyo, Aniplex, Dentsu, Trinity Sound, Mira...</td>\n",
              "      <td>None found, add some</td>\n",
              "      <td>Sunrise</td>\n",
              "      <td>Manga</td>\n",
              "      <td>ActionAction, ComedyComedy, Sci-FiSci-Fi</td>\n",
              "      <td>PG-13 - Teens 13 or older</td>\n",
              "    </tr>\n",
              "    <tr>\n",
              "      <th>8</th>\n",
              "      <td>9.02</td>\n",
              "      <td>411</td>\n",
              "      <td>Substitute Soul Reaper Ichigo Kurosaki spends ...</td>\n",
              "      <td>Bleach: Thousand-Year Blood War</td>\n",
              "      <td>TV</td>\n",
              "      <td>13</td>\n",
              "      <td>Oct 11, 2022 to Dec 27, 2022</td>\n",
              "      <td>TV Tokyo, Aniplex, Dentsu, Shueisha</td>\n",
              "      <td>VIZ Media</td>\n",
              "      <td>Pierrot</td>\n",
              "      <td>Manga</td>\n",
              "      <td>ActionAction, AdventureAdventure, FantasyFantasy</td>\n",
              "      <td>R - 17+ (violence &amp; profanity)</td>\n",
              "    </tr>\n",
              "    <tr>\n",
              "      <th>9</th>\n",
              "      <td>9.02</td>\n",
              "      <td>746</td>\n",
              "      <td>The 150-year-long stalemate between the two in...</td>\n",
              "      <td>Legend of the Galactic Heroes</td>\n",
              "      <td>OVA</td>\n",
              "      <td>110</td>\n",
              "      <td>Jan 8, 1988 to Mar 17, 1997</td>\n",
              "      <td>TV Tokyo, Kitty Films, Tokuma Shoten, Tokuma J...</td>\n",
              "      <td>Sentai Filmworks</td>\n",
              "      <td>K-Factory, Kitty Film Mitaka Studio</td>\n",
              "      <td>Novel</td>\n",
              "      <td>DramaDrama, Sci-FiSci-Fi</td>\n",
              "      <td>R - 17+ (violence &amp; profanity)</td>\n",
              "    </tr>\n",
              "    <tr>\n",
              "      <th>10</th>\n",
              "      <td>9.02</td>\n",
              "      <td>738</td>\n",
              "      <td>While Gintoki Sakata was away, the Yorozuya fo...</td>\n",
              "      <td>Gintama: Enchousen</td>\n",
              "      <td>TV</td>\n",
              "      <td>13</td>\n",
              "      <td>Oct 4, 2012 to Mar 28, 2013</td>\n",
              "      <td>TV Tokyo, Aniplex, Dentsu, Shueisha, Miracle Bus</td>\n",
              "      <td>None found, add some</td>\n",
              "      <td>Sunrise</td>\n",
              "      <td>Manga</td>\n",
              "      <td>ActionAction, ComedyComedy, Sci-FiSci-Fi</td>\n",
              "      <td>PG-13 - Teens 13 or older</td>\n",
              "    </tr>\n",
              "    <tr>\n",
              "      <th>11</th>\n",
              "      <td>9.01</td>\n",
              "      <td>178</td>\n",
              "      <td>The elite members of Shuchiin Academy's studen...</td>\n",
              "      <td>Kaguya-sama: Love is War - Ultra Romantic</td>\n",
              "      <td>TV</td>\n",
              "      <td>13</td>\n",
              "      <td>Apr 9, 2022 to Jun 25, 2022</td>\n",
              "      <td>Aniplex, Mainichi Broadcasting System, Magic C...</td>\n",
              "      <td>Aniplex of America</td>\n",
              "      <td>A-1 Pictures</td>\n",
              "      <td>Manga</td>\n",
              "      <td>ComedyComedy, RomanceRomance</td>\n",
              "      <td>PG-13 - Teens 13 or older</td>\n",
              "    </tr>\n",
              "    <tr>\n",
              "      <th>12</th>\n",
              "      <td>8.98</td>\n",
              "      <td>473</td>\n",
              "      <td>Hundreds of years ago, the Chinese zodiac spir...</td>\n",
              "      <td>Fruits Basket: The Final Season</td>\n",
              "      <td>TV</td>\n",
              "      <td>13</td>\n",
              "      <td>Apr 6, 2021 to Jun 29, 2021</td>\n",
              "      <td>TV Tokyo, TV Osaka, Nihon Ad Systems, Hakusens...</td>\n",
              "      <td>Funimation</td>\n",
              "      <td>TMS Entertainment</td>\n",
              "      <td>Manga</td>\n",
              "      <td>DramaDrama, RomanceRomance, SupernaturalSupern...</td>\n",
              "      <td>PG-13 - Teens 13 or older</td>\n",
              "    </tr>\n",
              "    <tr>\n",
              "      <th>13</th>\n",
              "      <td>8.98</td>\n",
              "      <td>761</td>\n",
              "      <td>After joining the resistance against the bakuf...</td>\n",
              "      <td>Gintama Season 5</td>\n",
              "      <td>TV</td>\n",
              "      <td>12</td>\n",
              "      <td>Jan 9, 2017 to Mar 27, 2017</td>\n",
              "      <td>TV Tokyo, Aniplex, Dentsu, Shueisha</td>\n",
              "      <td>None found, add some</td>\n",
              "      <td>Bandai Namco Pictures</td>\n",
              "      <td>Manga</td>\n",
              "      <td>ActionAction, ComedyComedy, Sci-FiSci-Fi</td>\n",
              "      <td>PG-13 - Teens 13 or older</td>\n",
              "    </tr>\n",
              "    <tr>\n",
              "      <th>14</th>\n",
              "      <td>8.94</td>\n",
              "      <td>140</td>\n",
              "      <td>Edo is a city that was home to the vigor and a...</td>\n",
              "      <td>Gintama</td>\n",
              "      <td>TV</td>\n",
              "      <td>201</td>\n",
              "      <td>Apr 4, 2006 to Mar 25, 2010</td>\n",
              "      <td>TV Tokyo, Aniplex, Dentsu, Trinity Sound, Audi...</td>\n",
              "      <td>Sentai Filmworks, Crunchyroll</td>\n",
              "      <td>Sunrise</td>\n",
              "      <td>Manga</td>\n",
              "      <td>ActionAction, ComedyComedy, Sci-FiSci-Fi</td>\n",
              "      <td>PG-13 - Teens 13 or older</td>\n",
              "    </tr>\n",
              "    <tr>\n",
              "      <th>15</th>\n",
              "      <td>8.93</td>\n",
              "      <td>118</td>\n",
              "      <td>Tomoya Okazaki and Nagisa Furukawa have gradua...</td>\n",
              "      <td>Clannad: After Story</td>\n",
              "      <td>TV</td>\n",
              "      <td>24</td>\n",
              "      <td>Oct 3, 2008 to Mar 27, 2009</td>\n",
              "      <td>Pony Canyon, TBS, Rakuonsha, Animation Do</td>\n",
              "      <td>Sentai Filmworks</td>\n",
              "      <td>Kyoto Animation</td>\n",
              "      <td>Visual novel</td>\n",
              "      <td>DramaDrama, RomanceRomance, SupernaturalSupern...</td>\n",
              "      <td>PG-13 - Teens 13 or older</td>\n",
              "    </tr>\n",
              "    <tr>\n",
              "      <th>16</th>\n",
              "      <td>8.93</td>\n",
              "      <td>20</td>\n",
              "      <td>As a wild youth, elementary school student Sho...</td>\n",
              "      <td>A Silent Voice</td>\n",
              "      <td>Movie</td>\n",
              "      <td>1</td>\n",
              "      <td>Sep 17, 2016</td>\n",
              "      <td>Shochiku, Pony Canyon, Kodansha, ABC Animation...</td>\n",
              "      <td>Eleven Arts, NYAV Post</td>\n",
              "      <td>Kyoto Animation</td>\n",
              "      <td>Manga</td>\n",
              "      <td>Award WinningAward Winning, DramaDrama</td>\n",
              "      <td>PG-13 - Teens 13 or older</td>\n",
              "    </tr>\n",
              "    <tr>\n",
              "      <th>17</th>\n",
              "      <td>8.92</td>\n",
              "      <td>609</td>\n",
              "      <td>Maomao, an apothecary's daughter, has been plu...</td>\n",
              "      <td>The Apothecary Diaries</td>\n",
              "      <td>TV</td>\n",
              "      <td>24</td>\n",
              "      <td>Oct 22, 2023 to Mar 24, 2024</td>\n",
              "      <td>Dentsu, Square Enix, Nippon Television Network...</td>\n",
              "      <td>None found, add some</td>\n",
              "      <td>OLM, TOHO animation STUDIO</td>\n",
              "      <td>Light novel</td>\n",
              "      <td>DramaDrama, MysteryMystery</td>\n",
              "      <td>PG-13 - Teens 13 or older</td>\n",
              "    </tr>\n",
              "    <tr>\n",
              "      <th>18</th>\n",
              "      <td>8.92</td>\n",
              "      <td>567</td>\n",
              "      <td>Now in his second year of high school, Rei Kir...</td>\n",
              "      <td>March Comes In Like a Lion 2nd Season</td>\n",
              "      <td>TV</td>\n",
              "      <td>22</td>\n",
              "      <td>Oct 14, 2017 to Mar 31, 2018</td>\n",
              "      <td>Aniplex, Dentsu, NHK, Hakusensha, Asmik Ace, T...</td>\n",
              "      <td>Aniplex of America</td>\n",
              "      <td>Shaft</td>\n",
              "      <td>Manga</td>\n",
              "      <td>SeinenSeinen</td>\n",
              "      <td>PG-13 - Teens 13 or older</td>\n",
              "    </tr>\n",
              "    <tr>\n",
              "      <th>19</th>\n",
              "      <td>8.91</td>\n",
              "      <td>46</td>\n",
              "      <td>One year has passed since the Black Rebellion,...</td>\n",
              "      <td>Code Geass: Lelouch of the Rebellion R2</td>\n",
              "      <td>TV</td>\n",
              "      <td>25</td>\n",
              "      <td>Apr 6, 2008 to Sep 28, 2008</td>\n",
              "      <td>Bandai Visual, Mainichi Broadcasting System, B...</td>\n",
              "      <td>Funimation, Bandai Entertainment</td>\n",
              "      <td>Sunrise</td>\n",
              "      <td>Original</td>\n",
              "      <td>ActionAction, Award WinningAward Winning, Dram...</td>\n",
              "      <td>R - 17+ (violence &amp; profanity)</td>\n",
              "    </tr>\n",
              "  </tbody>\n",
              "</table>\n",
              "</div>\n",
              "    <div class=\"colab-df-buttons\">\n",
              "\n",
              "  <div class=\"colab-df-container\">\n",
              "    <button class=\"colab-df-convert\" onclick=\"convertToInteractive('df-0e571d66-367c-4603-9e16-3eaa217f6750')\"\n",
              "            title=\"Convert this dataframe to an interactive table.\"\n",
              "            style=\"display:none;\">\n",
              "\n",
              "  <svg xmlns=\"http://www.w3.org/2000/svg\" height=\"24px\" viewBox=\"0 -960 960 960\">\n",
              "    <path d=\"M120-120v-720h720v720H120Zm60-500h600v-160H180v160Zm220 220h160v-160H400v160Zm0 220h160v-160H400v160ZM180-400h160v-160H180v160Zm440 0h160v-160H620v160ZM180-180h160v-160H180v160Zm440 0h160v-160H620v160Z\"/>\n",
              "  </svg>\n",
              "    </button>\n",
              "\n",
              "  <style>\n",
              "    .colab-df-container {\n",
              "      display:flex;\n",
              "      gap: 12px;\n",
              "    }\n",
              "\n",
              "    .colab-df-convert {\n",
              "      background-color: #E8F0FE;\n",
              "      border: none;\n",
              "      border-radius: 50%;\n",
              "      cursor: pointer;\n",
              "      display: none;\n",
              "      fill: #1967D2;\n",
              "      height: 32px;\n",
              "      padding: 0 0 0 0;\n",
              "      width: 32px;\n",
              "    }\n",
              "\n",
              "    .colab-df-convert:hover {\n",
              "      background-color: #E2EBFA;\n",
              "      box-shadow: 0px 1px 2px rgba(60, 64, 67, 0.3), 0px 1px 3px 1px rgba(60, 64, 67, 0.15);\n",
              "      fill: #174EA6;\n",
              "    }\n",
              "\n",
              "    .colab-df-buttons div {\n",
              "      margin-bottom: 4px;\n",
              "    }\n",
              "\n",
              "    [theme=dark] .colab-df-convert {\n",
              "      background-color: #3B4455;\n",
              "      fill: #D2E3FC;\n",
              "    }\n",
              "\n",
              "    [theme=dark] .colab-df-convert:hover {\n",
              "      background-color: #434B5C;\n",
              "      box-shadow: 0px 1px 3px 1px rgba(0, 0, 0, 0.15);\n",
              "      filter: drop-shadow(0px 1px 2px rgba(0, 0, 0, 0.3));\n",
              "      fill: #FFFFFF;\n",
              "    }\n",
              "  </style>\n",
              "\n",
              "    <script>\n",
              "      const buttonEl =\n",
              "        document.querySelector('#df-0e571d66-367c-4603-9e16-3eaa217f6750 button.colab-df-convert');\n",
              "      buttonEl.style.display =\n",
              "        google.colab.kernel.accessAllowed ? 'block' : 'none';\n",
              "\n",
              "      async function convertToInteractive(key) {\n",
              "        const element = document.querySelector('#df-0e571d66-367c-4603-9e16-3eaa217f6750');\n",
              "        const dataTable =\n",
              "          await google.colab.kernel.invokeFunction('convertToInteractive',\n",
              "                                                    [key], {});\n",
              "        if (!dataTable) return;\n",
              "\n",
              "        const docLinkHtml = 'Like what you see? Visit the ' +\n",
              "          '<a target=\"_blank\" href=https://colab.research.google.com/notebooks/data_table.ipynb>data table notebook</a>'\n",
              "          + ' to learn more about interactive tables.';\n",
              "        element.innerHTML = '';\n",
              "        dataTable['output_type'] = 'display_data';\n",
              "        await google.colab.output.renderOutput(dataTable, element);\n",
              "        const docLink = document.createElement('div');\n",
              "        docLink.innerHTML = docLinkHtml;\n",
              "        element.appendChild(docLink);\n",
              "      }\n",
              "    </script>\n",
              "  </div>\n",
              "\n",
              "\n",
              "<div id=\"df-8d7b2ff9-879c-4a2a-8e8d-5ecaacdf1e67\">\n",
              "  <button class=\"colab-df-quickchart\" onclick=\"quickchart('df-8d7b2ff9-879c-4a2a-8e8d-5ecaacdf1e67')\"\n",
              "            title=\"Suggest charts\"\n",
              "            style=\"display:none;\">\n",
              "\n",
              "<svg xmlns=\"http://www.w3.org/2000/svg\" height=\"24px\"viewBox=\"0 0 24 24\"\n",
              "     width=\"24px\">\n",
              "    <g>\n",
              "        <path d=\"M19 3H5c-1.1 0-2 .9-2 2v14c0 1.1.9 2 2 2h14c1.1 0 2-.9 2-2V5c0-1.1-.9-2-2-2zM9 17H7v-7h2v7zm4 0h-2V7h2v10zm4 0h-2v-4h2v4z\"/>\n",
              "    </g>\n",
              "</svg>\n",
              "  </button>\n",
              "\n",
              "<style>\n",
              "  .colab-df-quickchart {\n",
              "      --bg-color: #E8F0FE;\n",
              "      --fill-color: #1967D2;\n",
              "      --hover-bg-color: #E2EBFA;\n",
              "      --hover-fill-color: #174EA6;\n",
              "      --disabled-fill-color: #AAA;\n",
              "      --disabled-bg-color: #DDD;\n",
              "  }\n",
              "\n",
              "  [theme=dark] .colab-df-quickchart {\n",
              "      --bg-color: #3B4455;\n",
              "      --fill-color: #D2E3FC;\n",
              "      --hover-bg-color: #434B5C;\n",
              "      --hover-fill-color: #FFFFFF;\n",
              "      --disabled-bg-color: #3B4455;\n",
              "      --disabled-fill-color: #666;\n",
              "  }\n",
              "\n",
              "  .colab-df-quickchart {\n",
              "    background-color: var(--bg-color);\n",
              "    border: none;\n",
              "    border-radius: 50%;\n",
              "    cursor: pointer;\n",
              "    display: none;\n",
              "    fill: var(--fill-color);\n",
              "    height: 32px;\n",
              "    padding: 0;\n",
              "    width: 32px;\n",
              "  }\n",
              "\n",
              "  .colab-df-quickchart:hover {\n",
              "    background-color: var(--hover-bg-color);\n",
              "    box-shadow: 0 1px 2px rgba(60, 64, 67, 0.3), 0 1px 3px 1px rgba(60, 64, 67, 0.15);\n",
              "    fill: var(--button-hover-fill-color);\n",
              "  }\n",
              "\n",
              "  .colab-df-quickchart-complete:disabled,\n",
              "  .colab-df-quickchart-complete:disabled:hover {\n",
              "    background-color: var(--disabled-bg-color);\n",
              "    fill: var(--disabled-fill-color);\n",
              "    box-shadow: none;\n",
              "  }\n",
              "\n",
              "  .colab-df-spinner {\n",
              "    border: 2px solid var(--fill-color);\n",
              "    border-color: transparent;\n",
              "    border-bottom-color: var(--fill-color);\n",
              "    animation:\n",
              "      spin 1s steps(1) infinite;\n",
              "  }\n",
              "\n",
              "  @keyframes spin {\n",
              "    0% {\n",
              "      border-color: transparent;\n",
              "      border-bottom-color: var(--fill-color);\n",
              "      border-left-color: var(--fill-color);\n",
              "    }\n",
              "    20% {\n",
              "      border-color: transparent;\n",
              "      border-left-color: var(--fill-color);\n",
              "      border-top-color: var(--fill-color);\n",
              "    }\n",
              "    30% {\n",
              "      border-color: transparent;\n",
              "      border-left-color: var(--fill-color);\n",
              "      border-top-color: var(--fill-color);\n",
              "      border-right-color: var(--fill-color);\n",
              "    }\n",
              "    40% {\n",
              "      border-color: transparent;\n",
              "      border-right-color: var(--fill-color);\n",
              "      border-top-color: var(--fill-color);\n",
              "    }\n",
              "    60% {\n",
              "      border-color: transparent;\n",
              "      border-right-color: var(--fill-color);\n",
              "    }\n",
              "    80% {\n",
              "      border-color: transparent;\n",
              "      border-right-color: var(--fill-color);\n",
              "      border-bottom-color: var(--fill-color);\n",
              "    }\n",
              "    90% {\n",
              "      border-color: transparent;\n",
              "      border-bottom-color: var(--fill-color);\n",
              "    }\n",
              "  }\n",
              "</style>\n",
              "\n",
              "  <script>\n",
              "    async function quickchart(key) {\n",
              "      const quickchartButtonEl =\n",
              "        document.querySelector('#' + key + ' button');\n",
              "      quickchartButtonEl.disabled = true;  // To prevent multiple clicks.\n",
              "      quickchartButtonEl.classList.add('colab-df-spinner');\n",
              "      try {\n",
              "        const charts = await google.colab.kernel.invokeFunction(\n",
              "            'suggestCharts', [key], {});\n",
              "      } catch (error) {\n",
              "        console.error('Error during call to suggestCharts:', error);\n",
              "      }\n",
              "      quickchartButtonEl.classList.remove('colab-df-spinner');\n",
              "      quickchartButtonEl.classList.add('colab-df-quickchart-complete');\n",
              "    }\n",
              "    (() => {\n",
              "      let quickchartButtonEl =\n",
              "        document.querySelector('#df-8d7b2ff9-879c-4a2a-8e8d-5ecaacdf1e67 button');\n",
              "      quickchartButtonEl.style.display =\n",
              "        google.colab.kernel.accessAllowed ? 'block' : 'none';\n",
              "    })();\n",
              "  </script>\n",
              "</div>\n",
              "\n",
              "    </div>\n",
              "  </div>\n"
            ],
            "application/vnd.google.colaboratory.intrinsic+json": {
              "type": "dataframe",
              "variable_name": "df",
              "summary": "{\n  \"name\": \"df\",\n  \"rows\": 1000,\n  \"fields\": [\n    {\n      \"column\": \"Score\",\n      \"properties\": {\n        \"dtype\": \"number\",\n        \"std\": 0.28434407881149054,\n        \"min\": 7.8,\n        \"max\": 9.38,\n        \"num_unique_values\": 121,\n        \"samples\": [\n          8.56,\n          8.53,\n          9.05\n        ],\n        \"semantic_type\": \"\",\n        \"description\": \"\"\n      }\n    },\n    {\n      \"column\": \"Popularity\",\n      \"properties\": {\n        \"dtype\": \"number\",\n        \"std\": 1888,\n        \"min\": 1,\n        \"max\": 12043,\n        \"num_unique_values\": 1000,\n        \"samples\": [\n          3778,\n          158,\n          780\n        ],\n        \"semantic_type\": \"\",\n        \"description\": \"\"\n      }\n    },\n    {\n      \"column\": \"Description\",\n      \"properties\": {\n        \"dtype\": \"string\",\n        \"num_unique_values\": 999,\n        \"samples\": [\n          \"There is no putting it lightly\\u2014Tsunayoshi Sawada is just no good. He is clumsy, talentless, and desperately in love with the school idol Kyouko Sasagawa, a girl so completely out of his league. Dubbed \\\"Loser Tsuna\\\" by his classmates, he seems to be the very personification of failure in the guise of a middle-schooler.\\n\\r\\nTsuna's boring life takes an extraordinary twist when he encounters the mysterious Reborn, who happens to be a hitman... and shockingly, a baby! Sent from the strongest Mafia family in Italy, Reborn is assigned the daunting mission of preparing the dull middle schooler to succeed the ninth boss of the notorious Vongola family, who is on the brink of retirement. The dull boy has a grueling road ahead, but with the help of his new criminal affiliates and his peculiar home tutor, perhaps even Loser Tsuna can achieve greatness.\\n\\r\\n[Written by MAL Rewrite]\",\n          \"On the day of the Tanabata festival, Shidou Itsuka happens to meet the eerie Kurumi Tokisaki, who proceeds to ask him out on a date. Although nervous, Shidou accepts the offer. The two spend their time visiting to a planetarium, buying food at the festival, and trying out a mock wedding ceremony. Meanwhile, Shirou's friends\\u2014Tooka Yatogami, Yoshino, and Kotori Itsuka\\u2014are looking for him, while also enjoying the festival themselves.\\n\\r\\nAs Shidou spends the day with Kurumi, he begins to notice an unexpected softer side of her. He knows that Kurumi is infamously called the \\\"Worst Spirit,\\\" but the girl standing before him is a gentle soul. However, as the day draws to a close, Shirou finally begins to understand the truth behind it all.\\n\\r\\n[Written by MAL Rewrite]\",\n          \"During Koyomi Araragi's second year at Naoetsu Private High School, he has a chance encounter with Tsubasa Hanekawa, the top honor student in his class. When they strike up a conversation, Hanekawa mentions a shocking rumor: a vampire with beautiful blonde hair and freezing cold eyes has been seen lurking around town.\\n\\r\\nHappy to have made a new friend, Araragi writes off the rumor and goes about the rest of his evening in a carefree manner. However, on his way home, he stumbles across splatters of blood leading down the stairs to the subway. His curiosity pushes him to investigate further, so he follows the gruesome pools into the depths of the station. \\n\\r\\nWhen he arrives at the source of the blood, he is terrified by what he sees\\u2014the rumored blonde vampire herself, completely dismembered. After she calls for his help, Araragi must make a decision, one which carries the potential to change his life forever.\\n\\r\\n[Written by MAL Rewrite]\"\n        ],\n        \"semantic_type\": \"\",\n        \"description\": \"\"\n      }\n    },\n    {\n      \"column\": \"English\",\n      \"properties\": {\n        \"dtype\": \"string\",\n        \"num_unique_values\": 991,\n        \"samples\": [\n          \"Hellsing Ultimate\",\n          \"\\u306e\\u3060\\u3081\\u30ab\\u30f3\\u30bf\\u30fc\\u30d3\\u30ec \\u30d5\\u30a3\\u30ca\\u30fc\\u30ec\",\n          \"Tsubasa RESERVoir CHRoNiCLE: Spring Thunder Chronicle\"\n        ],\n        \"semantic_type\": \"\",\n        \"description\": \"\"\n      }\n    },\n    {\n      \"column\": \"Type\",\n      \"properties\": {\n        \"dtype\": \"category\",\n        \"num_unique_values\": 6,\n        \"samples\": [\n          \"TV\",\n          \"Movie\",\n          \"Special\"\n        ],\n        \"semantic_type\": \"\",\n        \"description\": \"\"\n      }\n    },\n    {\n      \"column\": \"Episodes\",\n      \"properties\": {\n        \"dtype\": \"category\",\n        \"num_unique_values\": 84,\n        \"samples\": [\n          \"18\",\n          \"28\",\n          \"102\"\n        ],\n        \"semantic_type\": \"\",\n        \"description\": \"\"\n      }\n    },\n    {\n      \"column\": \"Aired\",\n      \"properties\": {\n        \"dtype\": \"string\",\n        \"num_unique_values\": 961,\n        \"samples\": [\n          \"Apr 1, 1998 to Sep 30, 1998\",\n          \"Jul 1, 2023 to Sep 23, 2023\",\n          \"Apr 21, 2018\"\n        ],\n        \"semantic_type\": \"\",\n        \"description\": \"\"\n      }\n    },\n    {\n      \"column\": \"Producers\",\n      \"properties\": {\n        \"dtype\": \"string\",\n        \"num_unique_values\": 641,\n        \"samples\": [\n          \"Bushiroad\",\n          \"Memory-Tech, GANSIS, Marvelous AQL\",\n          \"Aniplex, Square Enix\"\n        ],\n        \"semantic_type\": \"\",\n        \"description\": \"\"\n      }\n    },\n    {\n      \"column\": \"Licensors\",\n      \"properties\": {\n        \"dtype\": \"category\",\n        \"num_unique_values\": 90,\n        \"samples\": [\n          \"ADV Films, Sentai Filmworks\",\n          \"Discotek Media\",\n          \"Discotek Media, Manga Entertainment\"\n        ],\n        \"semantic_type\": \"\",\n        \"description\": \"\"\n      }\n    },\n    {\n      \"column\": \"Studios\",\n      \"properties\": {\n        \"dtype\": \"category\",\n        \"num_unique_values\": 166,\n        \"samples\": [\n          \"TYO Animations\",\n          \"ABJ COMPANY\",\n          \"Gonzo\"\n        ],\n        \"semantic_type\": \"\",\n        \"description\": \"\"\n      }\n    },\n    {\n      \"column\": \"Source\",\n      \"properties\": {\n        \"dtype\": \"category\",\n        \"num_unique_values\": 15,\n        \"samples\": [\n          \"Other\",\n          \"Book\",\n          \"Manga\"\n        ],\n        \"semantic_type\": \"\",\n        \"description\": \"\"\n      }\n    },\n    {\n      \"column\": \"Genres\",\n      \"properties\": {\n        \"dtype\": \"category\",\n        \"num_unique_values\": 242,\n        \"samples\": [\n          \"ActionAction, MysteryMystery, SupernaturalSupernatural\",\n          \"ActionAction, AdventureAdventure, FantasyFantasy\",\n          \"GourmetGourmet, EcchiEcchi\"\n        ],\n        \"semantic_type\": \"\",\n        \"description\": \"\"\n      }\n    },\n    {\n      \"column\": \"Rating\",\n      \"properties\": {\n        \"dtype\": \"category\",\n        \"num_unique_values\": 5,\n        \"samples\": [\n          \"R - 17+ (violence & profanity)\",\n          \"G - All Ages\",\n          \"R+ - Mild Nudity\"\n        ],\n        \"semantic_type\": \"\",\n        \"description\": \"\"\n      }\n    }\n  ]\n}"
            }
          },
          "metadata": {},
          "execution_count": 195
        }
      ]
    },
    {
      "cell_type": "code",
      "source": [
        "df = df.dropna()"
      ],
      "metadata": {
        "id": "xrfk-buMJbpc"
      },
      "execution_count": 196,
      "outputs": []
    },
    {
      "cell_type": "code",
      "source": [
        "#Preprocessing data"
      ],
      "metadata": {
        "id": "d3Rn1tvQJ3vW"
      },
      "execution_count": 197,
      "outputs": []
    },
    {
      "cell_type": "code",
      "source": [
        "df[\"Aired\"].head()"
      ],
      "metadata": {
        "colab": {
          "base_uri": "https://localhost:8080/"
        },
        "id": "OIXDICAUKYkn",
        "outputId": "98805a2b-f9ab-4976-ce78-ed7a2b4284e6"
      },
      "execution_count": 198,
      "outputs": [
        {
          "output_type": "execute_result",
          "data": {
            "text/plain": [
              "0    Sep 29, 2023 to Mar 22, 2024\n",
              "1      Apr 5, 2009 to Jul 4, 2010\n",
              "2     Apr 6, 2011 to Sep 14, 2011\n",
              "3     Apr 8, 2015 to Mar 30, 2016\n",
              "4     Apr 29, 2019 to Jul 1, 2019\n",
              "Name: Aired, dtype: object"
            ]
          },
          "metadata": {},
          "execution_count": 198
        }
      ]
    },
    {
      "cell_type": "code",
      "source": [
        "df['Aired'] = df['Aired'].str.split(',')\n",
        "df['Year'] = df['Aired'].str[1]\n",
        "df['Year'] = df['Year'].str.split('t').str[0].astype(int)\n"
      ],
      "metadata": {
        "id": "LYU1jiqcKqOu"
      },
      "execution_count": 199,
      "outputs": []
    },
    {
      "cell_type": "code",
      "source": [
        "df.Episodes = df.Episodes.astype(int)"
      ],
      "metadata": {
        "id": "I2sByGMBOohR"
      },
      "execution_count": 214,
      "outputs": []
    },
    {
      "cell_type": "code",
      "source": [
        "df.Year.head()"
      ],
      "metadata": {
        "colab": {
          "base_uri": "https://localhost:8080/"
        },
        "id": "iFDssXl7K12t",
        "outputId": "7bb92015-c1ed-4e08-a654-4803b57d12c8"
      },
      "execution_count": 200,
      "outputs": [
        {
          "output_type": "execute_result",
          "data": {
            "text/plain": [
              "0    2023\n",
              "1    2009\n",
              "2    2011\n",
              "3    2015\n",
              "4    2019\n",
              "Name: Year, dtype: int64"
            ]
          },
          "metadata": {},
          "execution_count": 200
        }
      ]
    },
    {
      "cell_type": "code",
      "source": [
        "fig,(ax1) = plt.subplots(ncols=1, sharey=True, figsize=(9, 5))\n",
        "\n",
        "hb = ax1.hexbin(df[\"Year\"], df[\"Score\"], gridsize=15, bins='log', cmap='Blues')\n",
        "ax1.set_title(\"Score vs Year\")\n",
        "cb = fig.colorbar(hb, ax=ax1)\n",
        "fig.show()"
      ],
      "metadata": {
        "colab": {
          "base_uri": "https://localhost:8080/",
          "height": 468
        },
        "id": "sDrLijuoNM8I",
        "outputId": "cbf2ba90-1c08-4abf-8d21-4c5c0a42ecf9"
      },
      "execution_count": 207,
      "outputs": [
        {
          "output_type": "display_data",
          "data": {
            "text/plain": [
              "<Figure size 900x500 with 2 Axes>"
            ],
            "image/png": "[encoded data removed]"
          },
          "metadata": {}
        }
      ]
    },
    {
      "cell_type": "code",
      "source": [
        "fig,(ax1) = plt.subplots(ncols=1, sharey=True, figsize=(9, 5))\n",
        "\n",
        "hb = ax1.hexbin(df[\"Popularity\"], df[\"Score\"], gridsize=15, bins='log', cmap='YlOrRd')\n",
        "ax1.set_title(\"Popularity vs Score\")\n",
        "cb = fig.colorbar(hb, ax=ax1)\n",
        "fig.show()"
      ],
      "metadata": {
        "colab": {
          "base_uri": "https://localhost:8080/",
          "height": 468
        },
        "id": "vrp68LfIOh_z",
        "outputId": "ce4ff94c-6065-4533-b2bd-b578cab57e0c"
      },
      "execution_count": 232,
      "outputs": [
        {
          "output_type": "display_data",
          "data": {
            "text/plain": [
              "<Figure size 900x500 with 2 Axes>"
            ],
            "image/png": "[encoded data removed]"
          },
          "metadata": {}
        }
      ]
    },
    {
      "cell_type": "markdown",
      "source": [],
      "metadata": {
        "id": "yItwNjwdG8W7"
      }
    },
    {
      "cell_type": "code",
      "source": [
        "studiosCount = df['Studios'].value_counts()\n",
        "display(studiosCount.head(20))"
      ],
      "metadata": {
        "colab": {
          "base_uri": "https://localhost:8080/",
          "height": 399
        },
        "id": "DuSw3TmyxQ6f",
        "outputId": "9183e8d0-d01d-4958-b409-fa5188847433"
      },
      "execution_count": 266,
      "outputs": [
        {
          "output_type": "display_data",
          "data": {
            "text/plain": [
              "Studios\n",
              "Madhouse             55\n",
              "Production I.G       53\n",
              "Sunrise              49\n",
              "TMS Entertainment    48\n",
              "Bones                38\n",
              "Toei Animation       37\n",
              "A-1 Pictures         31\n",
              "J.C.Staff            28\n",
              "Shaft                26\n",
              "Kyoto Animation      25\n",
              "Pierrot              21\n",
              "Studio Deen          19\n",
              "ufotable             18\n",
              "Brain's Base         17\n",
              "MAPPA                16\n",
              "Wit Studio           13\n",
              "Studio Ghibli        13\n",
              "Lerche               12\n",
              "White Fox            11\n",
              "Shuka                11\n",
              "Name: count, dtype: int64"
            ]
          },
          "metadata": {}
        }
      ]
    },
    {
      "cell_type": "code",
      "source": [
        "ratingCount = df.groupby('Rating')[\"English\"].count()\n",
        "display(ratingCounts.head(5))"
      ],
      "metadata": {
        "colab": {
          "base_uri": "https://localhost:8080/",
          "height": 139
        },
        "id": "-HLNIGJ1x6ZP",
        "outputId": "9c2d9525-c694-4162-e2da-43d74eff8938"
      },
      "execution_count": 321,
      "outputs": [
        {
          "output_type": "display_data",
          "data": {
            "text/plain": [
              "Type\n",
              "Movie      212\n",
              "ONA         46\n",
              "OVA         77\n",
              "Special     31\n",
              "TV         522\n",
              "Name: English, dtype: int64"
            ]
          },
          "metadata": {}
        }
      ]
    },
    {
      "cell_type": "code",
      "source": [
        "explode = (0, 0, 0, 0.1, 0)\n",
        "colors = ['#EFCB68','#E1EFE6','#AEB7B3','#160C28','#4D3C38']\n",
        "plt.pie(ratingCount.head(10), labels = ratingCount.index, explode = explode, colors = colors)"
      ],
      "metadata": {
        "colab": {
          "base_uri": "https://localhost:8080/",
          "height": 580
        },
        "id": "FMIBdg0I7MRl",
        "outputId": "8d121df4-6816-44c7-e0a3-91184d29ad4f"
      },
      "execution_count": 327,
      "outputs": [
        {
          "output_type": "execute_result",
          "data": {
            "text/plain": [
              "([<matplotlib.patches.Wedge at 0x7fce4d6d91e0>,\n",
              "  <matplotlib.patches.Wedge at 0x7fce4d6d95d0>,\n",
              "  <matplotlib.patches.Wedge at 0x7fce4d6d8e20>,\n",
              "  <matplotlib.patches.Wedge at 0x7fce4d678eb0>,\n",
              "  <matplotlib.patches.Wedge at 0x7fce4d67ada0>],\n",
              " [Text(1.0861281181142768, 0.17414278923211168, 'G - All Ages'),\n",
              "  Text(1.032355456358295, 0.37979232710424343, 'PG - Children'),\n",
              "  Text(-0.7918017036638897, 0.7635771487380709, 'PG-13 - Teens 13 or older'),\n",
              "  Text(0.5342305924661258, -1.0745220677460712, 'R - 17+ (violence & profanity)'),\n",
              "  Text(1.08787523879768, -0.16287254161119713, 'R+ - Mild Nudity')])"
            ]
          },
          "metadata": {},
          "execution_count": 327
        },
        {
          "output_type": "display_data",
          "data": {
            "text/plain": [
              "<Figure size 640x480 with 1 Axes>"
            ],
            "image/png": "[encoded data removed]"
          },
          "metadata": {}
        }
      ]
    },
    {
      "cell_type": "code",
      "source": [
        "typeCount = df.groupby('Type')[\"English\"].count()\n",
        "display(typeCount.head(10))"
      ],
      "metadata": {
        "colab": {
          "base_uri": "https://localhost:8080/",
          "height": 156
        },
        "id": "EaSi0MFxyTiP",
        "outputId": "44705d4e-b1b7-4ec5-a921-9d214c3c85ed"
      },
      "execution_count": 294,
      "outputs": [
        {
          "output_type": "display_data",
          "data": {
            "text/plain": [
              "Type\n",
              "Movie         212\n",
              "ONA            46\n",
              "OVA            77\n",
              "Special        31\n",
              "TV            522\n",
              "TV Special     21\n",
              "Name: English, dtype: int64"
            ]
          },
          "metadata": {}
        }
      ]
    },
    {
      "cell_type": "code",
      "source": [
        "explode = (0.1, 0, 0, 0, 0, 0)\n",
        "colors = ['#1F363D','#40798C','#589197','#70A9A1','#9EC1A3']\n",
        "plt.pie(typeCount.head(10), labels = typeCount.index, explode = explode, colors = colors)"
      ],
      "metadata": {
        "colab": {
          "base_uri": "https://localhost:8080/",
          "height": 614
        },
        "id": "5R_hkpoO1fzP",
        "outputId": "3ae03ede-1c21-4a37-da31-6a197474cbfc"
      },
      "execution_count": 320,
      "outputs": [
        {
          "output_type": "execute_result",
          "data": {
            "text/plain": [
              "([<matplotlib.patches.Wedge at 0x7fce515b04f0>,\n",
              "  <matplotlib.patches.Wedge at 0x7fce515b3070>,\n",
              "  <matplotlib.patches.Wedge at 0x7fce515883d0>,\n",
              "  <matplotlib.patches.Wedge at 0x7fce515891e0>,\n",
              "  <matplotlib.patches.Wedge at 0x7fce51589ed0>,\n",
              "  <matplotlib.patches.Wedge at 0x7fce515b02e0>],\n",
              " [Text(0.8920512552513574, 0.8026484647742607, 'Movie'),\n",
              "  Text(-0.05889825447262478, 1.098422048039859, 'ONA'),\n",
              "  Text(-0.5066584472108501, 0.9763694064594048, 'OVA'),\n",
              "  Text(-0.8278065946322721, 0.7243868040510686, 'Special'),\n",
              "  Text(-0.4064211910934562, -1.0221652583756584, 'TV'),\n",
              "  Text(1.0971041065120921, -0.07976577884221113, 'TV Special')])"
            ]
          },
          "metadata": {},
          "execution_count": 320
        },
        {
          "output_type": "display_data",
          "data": {
            "text/plain": [
              "<Figure size 640x480 with 1 Axes>"
            ],
            "image/png": "[encoded data removed]"
          },
          "metadata": {}
        }
      ]
    },
    {
      "cell_type": "code",
      "source": [
        "sourceCount = df['Source'].value_counts()\n",
        "display(sourceCount.head(10))"
      ],
      "metadata": {
        "colab": {
          "base_uri": "https://localhost:8080/",
          "height": 225
        },
        "id": "mTk7DH5oydns",
        "outputId": "6d0567da-01cb-4160-ea30-37d3655e6458"
      },
      "execution_count": 276,
      "outputs": [
        {
          "output_type": "display_data",
          "data": {
            "text/plain": [
              "Source\n",
              "Manga           536\n",
              "Original        139\n",
              "Light novel     103\n",
              "Novel            55\n",
              "Visual novel     22\n",
              "Web manga        21\n",
              "Web novel        10\n",
              "4-koma manga      9\n",
              "Game              6\n",
              "Other             3\n",
              "Name: count, dtype: int64"
            ]
          },
          "metadata": {}
        }
      ]
    },
    {
      "cell_type": "code",
      "source": [
        "df['Genres'] = df['Genres'].str.split(',').str[0]\n"
      ],
      "metadata": {
        "id": "pJM0jlqD_vYS"
      },
      "execution_count": 336,
      "outputs": []
    },
    {
      "cell_type": "code",
      "source": [
        "genreCount = df['Genres'].value_counts()\n",
        "display(genreCount.head(22))\n"
      ],
      "metadata": {
        "colab": {
          "base_uri": "https://localhost:8080/",
          "height": 329
        },
        "id": "OzMmw8kR_X5i",
        "outputId": "2cda1c10-2843-4358-a426-662961fc6f09"
      },
      "execution_count": 377,
      "outputs": [
        {
          "output_type": "display_data",
          "data": {
            "text/plain": [
              "Genres\n",
              "ActionAction                  408\n",
              "AdventureAdventure            180\n",
              "ComedyComedy                  111\n",
              "DramaDrama                    100\n",
              "Award WinningAward Winning     38\n",
              "FantasyFantasy                 14\n",
              "RomanceRomance                 11\n",
              "Slice of LifeSlice of Life     11\n",
              "MysteryMystery                  9\n",
              "HorrorHorror                    6\n",
              "Avant GardeAvant Garde          5\n",
              "Boys LoveBoys Love              5\n",
              "Sci-FiSci-Fi                    5\n",
              "GourmetGourmet                  4\n",
              "SportsSports                    1\n",
              "KidsKids                        1\n",
              "Name: count, dtype: int64"
            ]
          },
          "metadata": {}
        }
      ]
    },
    {
      "cell_type": "code",
      "source": [
        "df[\"Genres\"] = df[\"Genres\"].replace(\"ShounenShounen\", \"AdventureAdventure\")\n",
        "df[\"Genres\"] = df[\"Genres\"].replace(\"SeinenSeinen\", \"ActionAction\")\n",
        "df[\"Genres\"] = df[\"Genres\"].replace(\"JoseiJosei\", \"RomanceRomance\")\n",
        "df[\"Genres\"] = df[\"Genres\"].replace(\"ShoujoShoujo\", \"RomanceRomance\")\n",
        "df[\"Genres\"] = df[\"Genres\"].replace(\"SupernaturalSupernatural\", \"AdventureAdventure\")\n",
        "df[\"Genres\"] = df[\"Genres\"].replace(\"HorrorHorror\", \"MysteryMystery\")"
      ],
      "metadata": {
        "id": "B6_P5INUalGr"
      },
      "execution_count": 421,
      "outputs": []
    },
    {
      "cell_type": "markdown",
      "source": [
        "Cosine Sim\n"
      ],
      "metadata": {
        "id": "xelquvowoIWa"
      }
    },
    {
      "cell_type": "code",
      "source": [
        "tfidf = TfidfVectorizer(stop_words='english')"
      ],
      "metadata": {
        "id": "7ERfII5NoLHR"
      },
      "execution_count": 378,
      "outputs": []
    },
    {
      "cell_type": "code",
      "source": [
        "df.tfidf = tfidf.fit_transform(df['Description'])"
      ],
      "metadata": {
        "colab": {
          "base_uri": "https://localhost:8080/"
        },
        "id": "3BS5VvR7oVs6",
        "outputId": "6ab3b1e6-5ed8-4a3c-b058-3f83698437b0"
      },
      "execution_count": 427,
      "outputs": [
        {
          "output_type": "stream",
          "name": "stderr",
          "text": [
            "<ipython-input-427-790bee3a6214>:1: UserWarning:\n",
            "\n",
            "Pandas doesn't allow columns to be created via a new attribute name - see https://pandas.pydata.org/pandas-docs/stable/indexing.html#attribute-access\n",
            "\n"
          ]
        }
      ]
    },
    {
      "cell_type": "code",
      "source": [
        "df.columns"
      ],
      "metadata": {
        "colab": {
          "base_uri": "https://localhost:8080/"
        },
        "id": "CU9ZgmkGe5CM",
        "outputId": "abbd3a04-b05f-469f-ccac-e46e6bd24236"
      },
      "execution_count": 428,
      "outputs": [
        {
          "output_type": "execute_result",
          "data": {
            "text/plain": [
              "Index(['Score', 'Popularity', 'Description', 'English', 'Type', 'Episodes',\n",
              "       'Aired', 'Producers', 'Licensors', 'Studios', 'Source', 'Genres',\n",
              "       'Rating', 'Year'],\n",
              "      dtype='object')"
            ]
          },
          "metadata": {},
          "execution_count": 428
        }
      ]
    },
    {
      "cell_type": "code",
      "source": [
        "tfidf_matrix"
      ],
      "metadata": {
        "colab": {
          "base_uri": "https://localhost:8080/"
        },
        "id": "TfA3kQHl82ox",
        "outputId": "bb65f8ef-1849-43ab-d5d5-587ee6492d9e"
      },
      "execution_count": 380,
      "outputs": [
        {
          "output_type": "execute_result",
          "data": {
            "text/plain": [
              "<909x13354 sparse matrix of type '<class 'numpy.float64'>'\n",
              "\twith 59072 stored elements in Compressed Sparse Row format>"
            ]
          },
          "metadata": {},
          "execution_count": 380
        }
      ]
    },
    {
      "cell_type": "code",
      "source": [
        "cosineSim = linear_kernel(tfidf_matrix, tfidf_matrix)"
      ],
      "metadata": {
        "id": "-_JwgX03oXYV"
      },
      "execution_count": 381,
      "outputs": []
    },
    {
      "cell_type": "code",
      "source": [
        "cosineSim"
      ],
      "metadata": {
        "colab": {
          "base_uri": "https://localhost:8080/"
        },
        "id": "u6a1BMb2oanR",
        "outputId": "3c562336-aba1-4cb0-b9a3-7c5c4b84fbae"
      },
      "execution_count": 382,
      "outputs": [
        {
          "output_type": "execute_result",
          "data": {
            "text/plain": [
              "array([[1.        , 0.03002543, 0.02017435, ..., 0.01670703, 0.        ,\n",
              "        0.02205846],\n",
              "       [0.03002543, 1.        , 0.00332102, ..., 0.02026291, 0.00218842,\n",
              "        0.0099515 ],\n",
              "       [0.02017435, 0.00332102, 1.        , ..., 0.00679396, 0.        ,\n",
              "        0.01136736],\n",
              "       ...,\n",
              "       [0.01670703, 0.02026291, 0.00679396, ..., 1.        , 0.05405735,\n",
              "        0.01485315],\n",
              "       [0.        , 0.00218842, 0.        , ..., 0.05405735, 1.        ,\n",
              "        0.        ],\n",
              "       [0.02205846, 0.0099515 , 0.01136736, ..., 0.01485315, 0.        ,\n",
              "        1.        ]])"
            ]
          },
          "metadata": {},
          "execution_count": 382
        }
      ]
    },
    {
      "cell_type": "code",
      "source": [
        "indices = pd.Series(df.index, index=df['English'])"
      ],
      "metadata": {
        "id": "lPy-KzYXojV-"
      },
      "execution_count": 383,
      "outputs": []
    },
    {
      "cell_type": "code",
      "source": [
        "indices"
      ],
      "metadata": {
        "colab": {
          "base_uri": "https://localhost:8080/"
        },
        "id": "DegzARWYolGt",
        "outputId": "5adbf05c-690c-4d12-99e2-84af7fd6c12b"
      },
      "execution_count": 384,
      "outputs": [
        {
          "output_type": "execute_result",
          "data": {
            "text/plain": [
              "English\n",
              "Frieren: Beyond Journey's End                            0\n",
              "Fullmetal Alchemist: Brotherhood                         1\n",
              "Steins;Gate                                              2\n",
              "Gintama Season 4                                         3\n",
              "Attack on Titan Season 3 Part 2                          4\n",
              "                                                      ... \n",
              "Macross Frontier: The False Songstress                 995\n",
              "マギ シンドバッドの冒険                                           996\n",
              "Detective Conan Movie 09: Strategy Above the Depths    997\n",
              "Detective Conan Movie 12: Full Score of Fear           998\n",
              "Initial D Legend 1 Awakening                           999\n",
              "Length: 909, dtype: int64"
            ]
          },
          "metadata": {},
          "execution_count": 384
        }
      ]
    },
    {
      "cell_type": "markdown",
      "source": [
        "## KNN for Genre classification based on description"
      ],
      "metadata": {
        "id": "Utma3uXmhaNH"
      }
    },
    {
      "cell_type": "code",
      "source": [
        "X = cosineSim\n",
        "y = df.Genres\n",
        "\n",
        "X_train, X_test, y_train, y_test = train_test_split(X, y, test_size=0.1, random_state=42)\n",
        "\n",
        "knn = KNeighborsClassifier(n_neighbors=3)\n",
        "\n",
        "# Train classifier\n",
        "knn.fit(X_train, y_train)\n",
        "\n",
        "# Predictions on the test set\n",
        "y_pred = knn.predict(X_test)\n",
        "\n",
        "# Calculate accuracy\n",
        "accuracy = accuracy_score(y_test, y_pred)"
      ],
      "metadata": {
        "id": "T_vY0nh_-081"
      },
      "execution_count": 449,
      "outputs": []
    },
    {
      "cell_type": "code",
      "source": [
        "print(accuracy)"
      ],
      "metadata": {
        "colab": {
          "base_uri": "https://localhost:8080/"
        },
        "id": "iO-A-W5kBMgz",
        "outputId": "0c4f7cbc-d3f0-441a-a684-885540523b4a"
      },
      "execution_count": 450,
      "outputs": [
        {
          "output_type": "stream",
          "name": "stdout",
          "text": [
            "0.6813186813186813\n"
          ]
        }
      ]
    },
    {
      "cell_type": "markdown",
      "source": [
        "## Naive Bayes for Rating classification based on description"
      ],
      "metadata": {
        "id": "iEECjmOihTdx"
      }
    },
    {
      "cell_type": "code",
      "source": [
        "X = cosineSim\n",
        "y = df.Rating\n",
        "\n",
        "X_train, X_test, y_train, y_test = train_test_split(X, y, test_size=0.1, random_state=42)\n",
        "\n",
        "nb_model = GaussianNB()\n",
        "nb_model = nb_model.fit(X_train, y_train)"
      ],
      "metadata": {
        "id": "tNnQNrvocmvk"
      },
      "execution_count": 454,
      "outputs": []
    },
    {
      "cell_type": "code",
      "source": [
        "y_pred = nb_model.predict(X_test)"
      ],
      "metadata": {
        "id": "0BwaaHZgc_f_"
      },
      "execution_count": 455,
      "outputs": []
    },
    {
      "cell_type": "code",
      "source": [
        "print(classification_report(y_test, y_pred))"
      ],
      "metadata": {
        "colab": {
          "base_uri": "https://localhost:8080/"
        },
        "id": "sE5iJdj6dEP7",
        "outputId": "8f6ef09e-60e1-4330-9173-ba49c00418d2"
      },
      "execution_count": 456,
      "outputs": [
        {
          "output_type": "stream",
          "name": "stdout",
          "text": [
            "              precision    recall  f1-score   support\n",
            "\n",
            "           0       0.95      0.59      0.73        59\n",
            "           1       0.89      0.76      0.82        21\n",
            "           2       0.18      0.67      0.29         3\n",
            "           3       0.33      0.33      0.33         3\n",
            "           4       0.14      0.60      0.22         5\n",
            "\n",
            "    accuracy                           0.63        91\n",
            "   macro avg       0.50      0.59      0.48        91\n",
            "weighted avg       0.84      0.63      0.69        91\n",
            "\n"
          ]
        }
      ]
    }
  ]
}